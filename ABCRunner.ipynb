{
 "cells": [
  {
   "cell_type": "code",
   "execution_count": 1,
   "id": "a0f2e978",
   "metadata": {},
   "outputs": [],
   "source": [
    "import datetime\n",
    "import sys\n",
    "import time\n",
    "import ABC\n",
    "import Config\n",
    "from Reporter import Reporter"
   ]
  },
  {
   "cell_type": "code",
   "execution_count": 2,
   "id": "202bb04f",
   "metadata": {},
   "outputs": [],
   "source": [
    "def main(argv):\n",
    "\n",
    "    abc_conf = Config.Config(argv)\n",
    "    abc_list = list()\n",
    "    experiment_name = datetime.datetime.now().strftime(\"%Y-%m-%d %H:%M:%S\").replace(\" \", \"\").replace(\":\", \"\")\n",
    "    for run in range(abc_conf.RUN_TIME):\n",
    "\n",
    "        abc = ABC.ABC(abc_conf)\n",
    "        abc.set_experiment_id(run, experiment_name)\n",
    "        start_time = time.time() * 1000\n",
    "        abc.initial()\n",
    "        abc.memorize_best_source()\n",
    "        while not(abc.stopping_condition()):\n",
    "            abc.send_employed_bees()\n",
    "            abc.calculate_probabilities()\n",
    "            abc.send_onlooker_bees()\n",
    "            abc.memorize_best_source()\n",
    "            abc.send_scout_bees()\n",
    "            abc.increase_cycle()\n",
    "\n",
    "        abc.globalTime = time.time() * 1000 - start_time\n",
    "        abc_list.append(abc)\n",
    "    Reporter(abc_list)"
   ]
  },
  {
   "cell_type": "code",
   "execution_count": 5,
   "id": "7ae26211",
   "metadata": {},
   "outputs": [
    {
     "name": "stderr",
     "output_type": "stream",
     "text": [
      "100% (50000 of 50000) |##################| Elapsed Time: 0:00:04 Time:  0:00:04\n",
      "100% (50000 of 50000) |##################| Elapsed Time: 0:00:03 Time:  0:00:03\n"
     ]
    },
    {
     "name": "stdout",
     "output_type": "stream",
     "text": [
      "2023-03-07120347-0 run: 0.0 Cycle: 1000 Time: 4223.7998046875\n",
      "2023-03-07120347-1 run: 0.0 Cycle: 1000 Time: 3966.204833984375\n",
      "Mean:  0.0  Std:  0.0  Median:  0.0\n"
     ]
    }
   ],
   "source": [
    "main(None)"
   ]
  },
  {
   "cell_type": "code",
   "execution_count": null,
   "id": "37f8d98f",
   "metadata": {},
   "outputs": [],
   "source": []
  }
 ],
 "metadata": {
  "kernelspec": {
   "display_name": "venv",
   "language": "python",
   "name": "venv"
  },
  "language_info": {
   "codemirror_mode": {
    "name": "ipython",
    "version": 3
   },
   "file_extension": ".py",
   "mimetype": "text/x-python",
   "name": "python",
   "nbconvert_exporter": "python",
   "pygments_lexer": "ipython3",
   "version": "3.7.9"
  }
 },
 "nbformat": 4,
 "nbformat_minor": 5
}
